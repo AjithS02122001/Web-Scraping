{
 "cells": [
  {
   "cell_type": "code",
   "execution_count": 1,
   "id": "796339cb",
   "metadata": {},
   "outputs": [],
   "source": [
    "import re\n",
    "import time\n",
    "import requests\n",
    "import numpy as np\n",
    "import pandas as pd\n",
    "from time import sleep\n",
    "from bs4 import BeautifulSoup\n",
    "from selenium import webdriver\n",
    "from webdriver_manager.chrome import ChromeDriverManager\n",
    "from selenium.webdriver.chrome.service import Service as ChromeService\n",
    "from selenium.webdriver.common.by import By\n",
    "from selenium.webdriver.support.ui import WebDriverWait\n",
    "from selenium.webdriver.support import expected_conditions as EC\n",
    "from selenium.common.exceptions import StaleElementReferenceException"
   ]
  },
  {
   "cell_type": "code",
   "execution_count": 2,
   "id": "f1f7ee9d",
   "metadata": {},
   "outputs": [],
   "source": [
    "chrome_driver = r\"C:\\Users\\HP\\Downloads\\chromedriver-win64\\chromedriver-win64\\chromedriver.exe\"\n",
    "download_file_path = r\"C:\\Users\\HP\\Downloads\\chromedriver-win64\\chromedriver-win64\"\n",
    "\n",
    "\n",
    "prefs = {\n",
    "    \"download.default_directory\": download_file_path,\n",
    "    \"download.prompt_for_download\": False,\n",
    "    \"download.directory_upgrade\": True\n",
    "    }\n",
    "options = webdriver.ChromeOptions()\n",
    "options.add_argument(\"--disable-extensions\")\n",
    "options.add_argument(\"--disable-gpu\")\n",
    "options.add_argument(\"--headless\")\n",
    "\n",
    "# Adjust the timeout value according to your needs\n",
    "options.add_argument(\"start-maximized\")\n",
    "options.add_argument(\"disable-infobars\")\n",
    "options.add_argument(\"--disable-extensions\")\n",
    "options.add_argument(\"--disable-gpu\")\n",
    "options.add_argument(\"--disable-dev-shm-usage\")\n",
    "options.add_argument(\"--no-sandbox\")"
   ]
  },
  {
   "cell_type": "code",
   "execution_count": 3,
   "id": "21779b39",
   "metadata": {},
   "outputs": [
    {
     "name": "stderr",
     "output_type": "stream",
     "text": [
      "There was an error managing chrome (error sending request for url (https://googlechromelabs.github.io/chrome-for-testing/known-good-versions-with-downloads.json): connection error: connection reset); using driver found in the cache\n"
     ]
    }
   ],
   "source": [
    "url = 'https://www.shoppersstop.com/'\n",
    "shopper = webdriver.Chrome()\n",
    "shopper.get(url)"
   ]
  },
  {
   "cell_type": "code",
   "execution_count": 4,
   "id": "b9722ae4",
   "metadata": {},
   "outputs": [],
   "source": [
    "search_box = shopper.find_element(By.NAME, \"text\")\n",
    "search_box.clear()\n",
    "search_box.send_keys(\"Shirts\") # enter your name in the search box\n",
    "sleep(1)\n",
    "search_box.submit() # submit the search"
   ]
  },
  {
   "cell_type": "code",
   "execution_count": 5,
   "id": "3b05e769",
   "metadata": {},
   "outputs": [],
   "source": [
    "# Find all product elements using class name\n",
    "product_elements = shopper.find_elements(By.CLASS_NAME, \"pro-box\")\n",
    "product_oldprize = shopper.find_elements(By.XPATH, '//*[@id=\"pdpImage\"]/div[3]/div[1]/div/ul/li[2]/span')\n",
    "dis_count = shopper.find_elements(By.XPATH,'//*[@id=\"pdpImage\"]/div[3]/div[1]/div/ul/li[3]/span')\n",
    "pro_prize = shopper.find_elements(By.XPATH,'//*[@id=\"pdpImage\"]/div[3]/div[1]/div/ul/li[1]')\n",
    "product_link = shopper.find_elements(By.XPATH,'//*[@id=\"5HashPosition\"]/div')"
   ]
  },
  {
   "cell_type": "code",
   "execution_count": 6,
   "id": "99262c6c",
   "metadata": {},
   "outputs": [
    {
     "name": "stdout",
     "output_type": "stream",
     "text": [
      "Data collecting 1\n",
      "Data collecting 2\n",
      "Data collecting 3\n",
      "Data collecting 4\n",
      "Data collecting 5\n",
      "Data collecting 6\n",
      "Data collecting 7\n",
      "Data collecting 8\n",
      "Data collecting 9\n",
      "Data collecting 10\n",
      "Data collecting 11\n",
      "Data collecting 12\n",
      "Data collecting 13\n",
      "Data collecting 14\n",
      "Data collecting 15\n"
     ]
    }
   ],
   "source": [
    "# Create a list to store dictionaries representing products\n",
    "products_Name = []\n",
    "ProductBrand = []\n",
    "category = []\n",
    "productcode = []\n",
    "productSize =[]\n",
    "Oldprize = []\n",
    "discount =[]\n",
    "Prize = []\n",
    "\n",
    "for i in range(15):\n",
    "    print('Data collecting',i+1)\n",
    "    for product_element in product_elements:\n",
    "        # Extract data attributes\n",
    "        product_name = product_element.get_attribute(\"data-product-name\")\n",
    "        products_Name.append(product_name)\n",
    "    for product_element1 in product_elements:\n",
    "        product_brand = product_element1.get_attribute(\"data-product-brandname\")\n",
    "        ProductBrand.append(product_brand)\n",
    "    for product_element2 in product_elements:\n",
    "        product_c = product_element2.get_attribute(\"data-category-name\")\n",
    "        category.append(product_c)\n",
    "    for product_element3 in product_elements:\n",
    "        product_code = product_element3.get_attribute(\"data-product-code\")\n",
    "        productcode.append(product_code)\n",
    "    for product_element4 in product_elements:\n",
    "        product_Sz = product_element4.get_attribute(\"data-product-sizes\")\n",
    "        productSize.append(product_Sz)\n",
    "    for old_prize in product_oldprize:\n",
    "            temp = old_prize.text\n",
    "            Oldprize.append(temp)\n",
    "    for Dis  in dis_count:\n",
    "        temp = Dis.text\n",
    "        discount.append(temp)\n",
    "    for S_prize in pro_prize:\n",
    "        temp = S_prize.text\n",
    "        Prize.append(temp)\n",
    "    shopper.execute_script(\"window.scrollTo(0, document.body.scrollHeight);\")\n",
    "    wait = WebDriverWait(shopper,60)\n",
    "    load_more_button = wait.until(EC.element_to_be_clickable((By.XPATH, '//*[@id=\"loadmore\"]')))\n",
    "    shopper.execute_script(\"arguments[0].scrollIntoView();\", load_more_button)\n",
    "    shopper.execute_script(\"arguments[0].click();\", load_more_button)\n",
    "    sleep(3)\n",
    "        \n",
    "shopper.quit()"
   ]
  },
  {
   "cell_type": "code",
   "execution_count": 7,
   "id": "3b0f668b",
   "metadata": {},
   "outputs": [
    {
     "data": {
      "text/html": [
       "<div>\n",
       "<style scoped>\n",
       "    .dataframe tbody tr th:only-of-type {\n",
       "        vertical-align: middle;\n",
       "    }\n",
       "\n",
       "    .dataframe tbody tr th {\n",
       "        vertical-align: top;\n",
       "    }\n",
       "\n",
       "    .dataframe thead th {\n",
       "        text-align: right;\n",
       "    }\n",
       "</style>\n",
       "<table border=\"1\" class=\"dataframe\">\n",
       "  <thead>\n",
       "    <tr style=\"text-align: right;\">\n",
       "      <th></th>\n",
       "      <th>Product Name</th>\n",
       "      <th>BrandName</th>\n",
       "      <th>category</th>\n",
       "      <th>Product Prize</th>\n",
       "      <th>Discount Off</th>\n",
       "      <th>Product Oldprize</th>\n",
       "      <th>Product Size</th>\n",
       "      <th>Product Code</th>\n",
       "    </tr>\n",
       "  </thead>\n",
       "  <tbody>\n",
       "    <tr>\n",
       "      <th>0</th>\n",
       "      <td>Stripes Cotton Slim Fit Men's Shirt - Blue</td>\n",
       "      <td>STOP</td>\n",
       "      <td>Formal Shirts</td>\n",
       "      <td>Rs 699</td>\n",
       "      <td>61% off</td>\n",
       "      <td>Rs 1799</td>\n",
       "      <td>[39, 40, 42]</td>\n",
       "      <td>A22SHST12AGBL_BLUE</td>\n",
       "    </tr>\n",
       "    <tr>\n",
       "      <th>1</th>\n",
       "      <td>Checks Cotton Slim Fit Men's Casual Shirt - Pink</td>\n",
       "      <td>LIFE</td>\n",
       "      <td>Casual Shirts</td>\n",
       "      <td>Rs 749</td>\n",
       "      <td>50% off</td>\n",
       "      <td>Rs 1499</td>\n",
       "      <td>[Large, Medium, Small, X-Large]</td>\n",
       "      <td>A23LDCHCK137PK_PINK</td>\n",
       "    </tr>\n",
       "    <tr>\n",
       "      <th>2</th>\n",
       "      <td>Printed Cotton Slim Fit Men's Shirt - Navy</td>\n",
       "      <td>STOP</td>\n",
       "      <td>Formal Shirts</td>\n",
       "      <td>Rs 699</td>\n",
       "      <td>53% off</td>\n",
       "      <td>Rs 1499</td>\n",
       "      <td>[39, 40, 42, 44]</td>\n",
       "      <td>A22SHSP61SWNV_NAVY</td>\n",
       "    </tr>\n",
       "    <tr>\n",
       "      <th>3</th>\n",
       "      <td>Stripes Cotton Regular Fit Men's Casual Shirt ...</td>\n",
       "      <td>URI</td>\n",
       "      <td>Casual Shirts</td>\n",
       "      <td>Rs 899</td>\n",
       "      <td>55% off</td>\n",
       "      <td>Rs 1999</td>\n",
       "      <td>[Large, Small, X-Large]</td>\n",
       "      <td>URIFS130MULTI_MULTI</td>\n",
       "    </tr>\n",
       "    <tr>\n",
       "      <th>4</th>\n",
       "      <td>Printed Cotton Slim Fit Mens Shirt - Wine</td>\n",
       "      <td>STOP</td>\n",
       "      <td>Formal Shirts</td>\n",
       "      <td>Rs 699</td>\n",
       "      <td>53% off</td>\n",
       "      <td>Rs 1499</td>\n",
       "      <td>[39, 40]</td>\n",
       "      <td>S23STSTNPRT29WN_WINE</td>\n",
       "    </tr>\n",
       "  </tbody>\n",
       "</table>\n",
       "</div>"
      ],
      "text/plain": [
       "                                        Product Name BrandName       category  \\\n",
       "0         Stripes Cotton Slim Fit Men's Shirt - Blue      STOP  Formal Shirts   \n",
       "1   Checks Cotton Slim Fit Men's Casual Shirt - Pink      LIFE  Casual Shirts   \n",
       "2         Printed Cotton Slim Fit Men's Shirt - Navy      STOP  Formal Shirts   \n",
       "3  Stripes Cotton Regular Fit Men's Casual Shirt ...       URI  Casual Shirts   \n",
       "4          Printed Cotton Slim Fit Mens Shirt - Wine      STOP  Formal Shirts   \n",
       "\n",
       "  Product Prize Discount Off Product Oldprize  \\\n",
       "0        Rs 699      61% off          Rs 1799   \n",
       "1        Rs 749      50% off          Rs 1499   \n",
       "2        Rs 699      53% off          Rs 1499   \n",
       "3        Rs 899      55% off          Rs 1999   \n",
       "4        Rs 699      53% off          Rs 1499   \n",
       "\n",
       "                      Product Size          Product Code  \n",
       "0                     [39, 40, 42]    A22SHST12AGBL_BLUE  \n",
       "1  [Large, Medium, Small, X-Large]   A23LDCHCK137PK_PINK  \n",
       "2                 [39, 40, 42, 44]    A22SHSP61SWNV_NAVY  \n",
       "3          [Large, Small, X-Large]   URIFS130MULTI_MULTI  \n",
       "4                         [39, 40]  S23STSTNPRT29WN_WINE  "
      ]
     },
     "execution_count": 7,
     "metadata": {},
     "output_type": "execute_result"
    }
   ],
   "source": [
    "df_overall = {\n",
    "    'Product Name': products_Name,\n",
    "    'BrandName': ProductBrand,\n",
    "    'category': category,\n",
    "    'Product Prize': Prize,\n",
    "    'Discount Off': discount,\n",
    "    'Product Oldprize': Oldprize,\n",
    "    'Product Size': productSize,\n",
    "    'Product Code': productcode\n",
    "}\n",
    "max_length = max(len(value) for value in df_overall.values())\n",
    "df_overall = {key: value + [None] * (max_length - len(value)) for key, value in df_overall.items()}\n",
    "df_overall = pd.DataFrame(df_overall)\n",
    "df_overall.head()"
   ]
  },
  {
   "cell_type": "code",
   "execution_count": 8,
   "id": "64737c82",
   "metadata": {},
   "outputs": [
    {
     "name": "stdout",
     "output_type": "stream",
     "text": [
      "DataFrame has been written to C:\\Users\\HP\\Downloads\\shoppers.xlsx\n"
     ]
    }
   ],
   "source": [
    "\n",
    "# Assuming df is your DataFrame\n",
    "df = pd.DataFrame(df_overall)  \n",
    "\n",
    "# Specify the Excel file path\n",
    "excel_file_path = 'C:\\\\Users\\\\HP\\\\Downloads\\\\shoppers.xlsx'\n",
    "\n",
    "# Write DataFrame to Excel\n",
    "df.to_excel(excel_file_path, index=False)\n",
    "\n",
    "print(f'DataFrame has been written to {excel_file_path}')"
   ]
  },
  {
   "cell_type": "code",
   "execution_count": null,
   "id": "0dd42bb6",
   "metadata": {},
   "outputs": [],
   "source": []
  },
  {
   "cell_type": "code",
   "execution_count": null,
   "id": "f18f145c",
   "metadata": {},
   "outputs": [],
   "source": []
  },
  {
   "cell_type": "code",
   "execution_count": null,
   "id": "d82fd6bf",
   "metadata": {},
   "outputs": [],
   "source": []
  },
  {
   "cell_type": "code",
   "execution_count": null,
   "id": "33903040",
   "metadata": {},
   "outputs": [],
   "source": []
  }
 ],
 "metadata": {
  "kernelspec": {
   "display_name": "Python 3 (ipykernel)",
   "language": "python",
   "name": "python3"
  },
  "language_info": {
   "codemirror_mode": {
    "name": "ipython",
    "version": 3
   },
   "file_extension": ".py",
   "mimetype": "text/x-python",
   "name": "python",
   "nbconvert_exporter": "python",
   "pygments_lexer": "ipython3",
   "version": "3.9.13"
  }
 },
 "nbformat": 4,
 "nbformat_minor": 5
}
